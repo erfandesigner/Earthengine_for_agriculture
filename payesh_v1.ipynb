{
  "cells": [
    {
      "cell_type": "code",
      "execution_count": 1,
      "metadata": {
        "id": "WeZ3MjT_oY50"
      },
      "outputs": [],
      "source": [
        "!pip install earthengine-api #earth-engine Python API"
      ]
    },
    {
      "cell_type": "code",
      "execution_count": 2,
      "metadata": {
        "colab": {
          "base_uri": "https://localhost:8080/"
        },
        "id": "l5UmMMN6oc7b",
        "outputId": "50194b4c-1834-440a-fa06-68bed0ec0d81"
      },
      "outputs": [
        {
          "output_type": "stream",
          "name": "stdout",
          "text": [
            "To authorize access needed by Earth Engine, open the following URL in a web browser and follow the instructions. If the web browser does not start automatically, please manually browse the URL below.\n",
            "\n",
            "    https://code.earthengine.google.com/client-auth?scopes=https%3A//www.googleapis.com/auth/earthengine%20https%3A//www.googleapis.com/auth/devstorage.full_control&request_id=Lcl1Lzd-jZNKyvgq94rShkNqGBZ1lA__gHNiOBXwiSk&tc=mAu_0f-9xvE_lFcu8gyWXbvA0rSYK8e2jIIaD_nFMPA&cc=EAEonqbMjZzX6LuyKBdapdmnke9oAhlH5w1JMR45N4A\n",
            "\n",
            "The authorization workflow will generate a code, which you should paste in the box below.\n",
            "Enter verification code: 4/1AfJohXkLNKfkApKvCHsnYEPPq6uyQzcUj3J2bAYJy7z_D4jdBs_BFVy_W0o\n",
            "\n",
            "Successfully saved authorization token.\n"
          ]
        }
      ],
      "source": [
        "!earthengine authenticate"
      ]
    },
    {
      "cell_type": "code",
      "execution_count": 3,
      "metadata": {
        "id": "cDo2P0W6ohOj"
      },
      "outputs": [],
      "source": [
        "import ee\n",
        "import datetime\n",
        "\n",
        "ee.Initialize()"
      ]
    },
    {
      "cell_type": "code",
      "execution_count": 4,
      "metadata": {
        "id": "BSBz_qCBoupN"
      },
      "outputs": [],
      "source": [
        "location={\n",
        "      \"type\": \"Feature\",\n",
        "      \"properties\": {\n",
        "        \"name\": \"test\"\n",
        "      },\n",
        "      \"geometry\": {\n",
        "        \"coordinates\": [\n",
        "          [\n",
        "            [\n",
        "              51.75889330279665,\n",
        "              35.491301434102795\n",
        "            ],\n",
        "            [\n",
        "              51.75776151360827,\n",
        "              35.492283033293916\n",
        "            ],\n",
        "            [\n",
        "              51.75573167430704,\n",
        "              35.490740514895094\n",
        "            ],\n",
        "            [\n",
        "              51.75614994422264,\n",
        "              35.49032983942088\n",
        "            ],\n",
        "            [\n",
        "              51.75420621931508,\n",
        "              35.48912785036225\n",
        "            ],\n",
        "            [\n",
        "              51.75494434269825,\n",
        "              35.48828644732369\n",
        "            ],\n",
        "            [\n",
        "              51.75792144034125,\n",
        "              35.48972884713936\n",
        "            ],\n",
        "            [\n",
        "              51.75889330279665,\n",
        "              35.491301434102795\n",
        "            ]\n",
        "          ]\n",
        "        ],\n",
        "        \"type\": \"Polygon\"\n",
        "      },\n",
        "      \"id\": 1\n",
        "    }\n",
        "fdate='2022-12-22'\n",
        "edate='2023-02-22'"
      ]
    },
    {
      "cell_type": "code",
      "execution_count": 5,
      "metadata": {
        "id": "UcumKJmTotMu"
      },
      "outputs": [],
      "source": [
        "if 'geometry' in location:\n",
        "  geometry = ee.Geometry(location['geometry'])\n",
        "else:\n",
        "  geometry = ee.Geometry(location)"
      ]
    },
    {
      "cell_type": "markdown",
      "metadata": {
        "id": "nNME3tYBpGHK"
      },
      "source": [
        "find date series of satellite"
      ]
    },
    {
      "cell_type": "code",
      "execution_count": 6,
      "metadata": {
        "id": "nH-reIqlo3VR"
      },
      "outputs": [],
      "source": [
        "image_colection = ee.ImageCollection(\"COPERNICUS/S2_SR_HARMONIZED\").filterDate(fdate,edate).filterBounds(geometry)\n",
        "dates_miliseconds = image_colection.reduceColumns(ee.Reducer.toList(), [\"system:time_start\"]).get('list').getInfo()\n",
        "cloudy_pixel_precentage = image_colection.aggregate_array(\"CLOUDY_PIXEL_PERCENTAGE\").getInfo()"
      ]
    },
    {
      "cell_type": "code",
      "execution_count": 7,
      "metadata": {
        "colab": {
          "base_uri": "https://localhost:8080/"
        },
        "id": "PkyYaR6Ao7Sc",
        "outputId": "254b2209-8fe3-4752-df42-6a452ab3ba58"
      },
      "outputs": [
        {
          "output_type": "execute_result",
          "data": {
            "text/plain": [
              "['2022-12-23',\n",
              " '2022-12-28',\n",
              " '2023-01-02',\n",
              " '2023-01-07',\n",
              " '2023-01-12',\n",
              " '2023-01-17',\n",
              " '2023-01-22',\n",
              " '2023-01-27',\n",
              " '2023-02-01',\n",
              " '2023-02-06',\n",
              " '2023-02-11',\n",
              " '2023-02-16',\n",
              " '2023-02-21']"
            ]
          },
          "metadata": {},
          "execution_count": 7
        }
      ],
      "source": [
        "dates = [datetime.datetime.fromtimestamp(mili_second/1000).strftime(\"%Y-%m-%d\") for mili_second in dates_miliseconds]\n",
        "dates\n"
      ]
    },
    {
      "cell_type": "code",
      "execution_count": 8,
      "metadata": {
        "colab": {
          "base_uri": "https://localhost:8080/"
        },
        "id": "drVHTVxSrKMY",
        "outputId": "5dc306f0-e2fc-4680-afd1-7af0aec9ee8b"
      },
      "outputs": [
        {
          "output_type": "execute_result",
          "data": {
            "text/plain": [
              "[3.141383,\n",
              " 17.800988,\n",
              " 0.000322,\n",
              " 3.146922,\n",
              " 66.381991,\n",
              " 62.436754,\n",
              " 7.373483,\n",
              " 48.20841,\n",
              " 4.202946,\n",
              " 51.896495,\n",
              " 23.116735,\n",
              " 11.311141,\n",
              " 0.113497]"
            ]
          },
          "metadata": {},
          "execution_count": 8
        }
      ],
      "source": [
        "cloudy_pixel_precentage"
      ]
    },
    {
      "cell_type": "markdown",
      "metadata": {
        "id": "P7neuTuFpMHX"
      },
      "source": [
        "start  get image"
      ]
    },
    {
      "cell_type": "code",
      "execution_count": 52,
      "metadata": {
        "id": "MKc0NybTpOp8"
      },
      "outputs": [],
      "source": [
        "bandIndexExps = [\n",
        "                '(b(8) - b(4)) / (b(8) +b(4))',\n",
        "                '(b(7) - b(4)) / (b(7) +b(4))',\n",
        "                '((2 * b(7) + 1 - sqrt(((2 * b(7) + 1) * 2) - 8*(b(7) - b(3)))) / 2)',\n",
        "                '(b(7) - b(10)) / (b(7) +b(10))',\n",
        "                '(b(11) - b(7)) / (b(11) +b(7))',\n",
        "                'b(7) / (b(3) + b(7))',\n",
        "                'b(7) - b(3)',\n",
        "                '(2.5 * (b(7) - b(3))) / (1 + b(7) + 6* b(3) - 7.5* b(2))',\n",
        "                '1.16 * ((b(7) - b(3)) / (b(7) + b(3) + 0.16))',\n",
        "                'b(3) - 0.735 * (b(1) - b(3))',\n",
        "                '(2 * (b(7)**2 -b(3)**2) + 1.5*b(7) + 0.5*b(3)) / (b(7) + b(3) + 0.5)'\n",
        "                ]\n",
        "NDVI =None\n",
        "bandIndexNames =  ['NDVI', 'NDRE', 'MSAVI2', 'NDMI', 'NDWI', 'IPVI', 'DVI', 'SARVI2', 'OSAVI','RGB','n']\n",
        "\n",
        "\n",
        "params = {\n",
        "  \"NDVI\":{ 'min': -1,\n",
        "            'max': 1,\n",
        "            'palette': [\n",
        "                    \"#007e47\", \"#009755\", \"#14aa60\", \"#77ca6f\", \"#b9e383\",\n",
        "                    \"#d5ef94\", \"#eaf7ac\", \"#fdfec2\", \"#ffefab\", \"#ffe093\",\"#ffc67d\",\n",
        "                    \"#ffab69\", \"#ff8d5a\", \"#ffcc66\", \"#fe6c4a\", \"#ef4c3a\", \"#e02d2c\",\n",
        "                    \"#c5142a\", \"#ad0028\"]\n",
        "          },\n",
        "  'NDRE':{ 'min': -1,\n",
        "            'max': 1,\n",
        "            'palette': [\n",
        "                    \"#800000\", \"#800000\", \"#800000\", \"#800000\", \"#800000\",\n",
        "                    \"#800000\", \"#800000\", \"#800000\", \"#800000\", \"#800000\",\"#800000\",\n",
        "                    \"#ff6600\", \"#ff9966\", \"#ffcc66\", \"#ccff99\", \"#ccff99\", \"#99ff99\",\n",
        "                    \"#00ff00\", \"#009933\", \"#003300\"]\n",
        "          },\n",
        "  'MSAVI2':{ 'min': -1,\n",
        "            'max': 1,\n",
        "            'palette': [\n",
        "                    \"#800000\", \"#800000\", \"#800000\", \"#800000\", \"#800000\",\n",
        "                    \"#800000\", \"#800000\", \"#800000\", \"#800000\", \"#800000\",\"#800000\",\n",
        "                    \"#ff6600\", \"#ff9966\", \"#ffcc66\", \"#ccff99\", \"#ccff99\", \"#99ff99\",\n",
        "                    \"#00ff00\", \"#009933\", \"#003300\"]\n",
        "          },\n",
        "  'NDMI':{ 'min': -1,\n",
        "            'max': 1,\n",
        "            'palette': [\n",
        "                    \"#800000\", \"#800000\", \"#800000\", \"#800000\", \"#800000\",\n",
        "                    \"#800000\", \"#800000\", \"#800000\", \"#800000\", \"#800000\",\"#800000\",\n",
        "                    \"#ff6600\", \"#ff9966\", \"#ffcc66\", \"#ccff99\", \"#ccff99\", \"#99ff99\",\n",
        "                    \"#00ff00\", \"#009933\", \"#003300\"]\n",
        "          },\n",
        "  'NDWI':{ 'min': -1,\n",
        "            'max': 1,\n",
        "            'palette': [\n",
        "                    \"#800000\", \"#800000\", \"#800000\", \"#800000\", \"#800000\",\n",
        "                    \"#800000\", \"#800000\", \"#800000\", \"#800000\", \"#800000\",\"#800000\",\n",
        "                    \"#ff6600\", \"#ff9966\", \"#ffcc66\", \"#ccff99\", \"#ccff99\", \"#99ff99\",\n",
        "                    \"#00ff00\", \"#009933\", \"#003300\"]\n",
        "          },\n",
        "  'IPVI':{ 'min': -1,\n",
        "            'max': 1,\n",
        "            'palette': [\n",
        "                    \"#800000\", \"#800000\", \"#800000\", \"#800000\", \"#800000\",\n",
        "                    \"#800000\", \"#800000\", \"#800000\", \"#800000\", \"#800000\",\"#800000\",\n",
        "                    \"#ff6600\", \"#ff9966\", \"#ffcc66\", \"#ccff99\", \"#ccff99\", \"#99ff99\",\n",
        "                    \"#00ff00\", \"#009933\", \"#003300\"]\n",
        "          },\n",
        "  'DVI':{ 'min': -1,\n",
        "            'max': 1,\n",
        "            'palette': [\n",
        "                    \"#800000\", \"#800000\", \"#800000\", \"#800000\", \"#800000\",\n",
        "                    \"#800000\", \"#800000\", \"#800000\", \"#800000\", \"#800000\",\"#800000\",\n",
        "                    \"#ff6600\", \"#ff9966\", \"#ffcc66\", \"#ccff99\", \"#ccff99\", \"#99ff99\",\n",
        "                    \"#00ff00\", \"#009933\", \"#003300\"]\n",
        "          },\n",
        "  'SARVI2':{ 'min': -1,\n",
        "            'max': 1,\n",
        "            'palette': [\n",
        "                    \"#800000\", \"#800000\", \"#800000\", \"#800000\", \"#800000\",\n",
        "                    \"#800000\", \"#800000\", \"#800000\", \"#800000\", \"#800000\",\"#800000\",\n",
        "                    \"#ff6600\", \"#ff9966\", \"#ffcc66\", \"#ccff99\", \"#ccff99\", \"#99ff99\",\n",
        "                    \"#00ff00\", \"#009933\", \"#003300\"]\n",
        "          },\n",
        "  'RGB':{ 'min': 0,\n",
        "            'max': 6500,\n",
        "            'palette': []\n",
        "          },\n",
        "  'OSAVI':{ 'min': -1,\n",
        "            'max': 1,\n",
        "            'palette': [\n",
        "                    \"#800000\", \"#800000\", \"#800000\", \"#800000\", \"#800000\",\n",
        "                    \"#800000\", \"#800000\", \"#800000\", \"#800000\", \"#800000\",\"#800000\",\n",
        "                    \"#ff6600\", \"#ff9966\", \"#ffcc66\", \"#ccff99\", \"#ccff99\", \"#99ff99\",\n",
        "                    \"#00ff00\", \"#009933\", \"#003300\"]\n",
        "          }\n",
        "  }"
      ]
    },
    {
      "cell_type": "code",
      "execution_count": 84,
      "metadata": {
        "id": "LP7_t0ZSpk4v"
      },
      "outputs": [],
      "source": [
        "bandName=\"NDVI\"\n",
        "fdate='2023-01-02'\n",
        "edate='2023-01-04'\n"
      ]
    },
    {
      "cell_type": "code",
      "execution_count": 85,
      "metadata": {
        "id": "5nhN8cD1pbb-"
      },
      "outputs": [],
      "source": [
        "IndexNames=bandIndexNames.index(bandName)\n",
        "\n",
        "if 'geometry' in location:\n",
        "  geometry = ee.Geometry(location['geometry'])\n",
        "else:\n",
        "  geometry = ee.Geometry(location)"
      ]
    },
    {
      "cell_type": "code",
      "execution_count": 86,
      "metadata": {
        "id": "M7LVdxZ0phm7",
        "colab": {
          "base_uri": "https://localhost:8080/"
        },
        "outputId": "5fb901b5-7055-4252-f7ce-10f72da241b9"
      },
      "outputs": [
        {
          "output_type": "execute_result",
          "data": {
            "text/plain": [
              "1"
            ]
          },
          "metadata": {},
          "execution_count": 86
        }
      ],
      "source": [
        "image_collection = ee.ImageCollection(\"COPERNICUS/S2_SR_HARMONIZED\").filterDate(fdate,edate).filterBounds(geometry)\n",
        "image_collection_size = image_collection.size().getInfo()\n",
        "image_collection_list = image_collection.toList(image_collection_size)\n",
        "selected_image_index = 0\n",
        "\n",
        "image = ee.Image(image_collection_list.get(selected_image_index)).clip(geometry)\n",
        "\n",
        "image_collection_size\n"
      ]
    },
    {
      "cell_type": "code",
      "source": [
        "ndvi=image.expression(\n",
        "\"(NIR - RED) / (NIR + RED)\",\n",
        "{\"NIR\":image.select(\"B8\"),\n",
        "\"RED\":image.select(\"B4\")});\n",
        "ndvi=ndvi.rename(str(bandName))\n",
        "\n",
        "ndvivis={\n",
        "    'bands': ['NDVI'],\n",
        "    \"min\":-1,\n",
        "    \"max\":1,\n",
        "#\"palette\": ['#d73027', '#f46d43', '#fdae61','#fee08b', '#ffffbf',  '#d9ef8b','#a6d96a','#66bd63','#1a9850']\n",
        "   \"palette\": ['#FFFFFF', '#CE7E45', '#DF923D', '#F1B555', '#FCD163', '#99B718',\n",
        "               '#74A901', '#66A000', '#529400', '#3E8601', '#207401', '#056201',\n",
        "               '#004C00', '#023B01', '#012E01', '#011D01', '#011301']\n",
        "}\n",
        "\n",
        "ndvi=ndvi.getMapId(params[str(bandName)])\n",
        "tiles=ndvi[\"tile_fetcher\"].url_format\n",
        "tiles=tiles.replace(\"https://earthengine.googleapis.com/v1/projects/earthengine-legacy/maps/\",\"https://keshton.ir/ee_maps/\")\n",
        "tiles"
      ],
      "metadata": {
        "colab": {
          "base_uri": "https://localhost:8080/",
          "height": 35
        },
        "id": "saoiUwY69u22",
        "outputId": "49f7c0ee-3cca-4663-cf2f-5f74f71683d4"
      },
      "execution_count": 93,
      "outputs": [
        {
          "output_type": "execute_result",
          "data": {
            "text/plain": [
              "'https://keshton.ir/ee_maps/8e3c97613c5d02263d94ed3379c1173f-04755c8f87414b5db90a9efef1b9244c/tiles/{z}/{x}/{y}'"
            ],
            "application/vnd.google.colaboratory.intrinsic+json": {
              "type": "string"
            }
          },
          "metadata": {},
          "execution_count": 93
        }
      ]
    },
    {
      "cell_type": "code",
      "source": [
        "RGB = ['B4', 'B3', 'B2']\n",
        "rgb_vis={\n",
        "    'bands': ['B4', 'B3', 'B2'],\n",
        "    \"min\":0,\n",
        "    \"max\":6500,\n",
        "   \"palette\": []\n",
        "}\n",
        "rgb_image= image.select(RGB)\n",
        "rgb_tile=rgb_image.getMapId(rgb_vis)[\"tile_fetcher\"].url_format\n",
        "rgb_tile=rgb_tile.replace(\"https://earthengine.googleapis.com/v1/projects/earthengine-legacy/maps/\",\"https://keshton.ir/ee_maps/\")\n",
        "rgb_tile"
      ],
      "metadata": {
        "colab": {
          "base_uri": "https://localhost:8080/",
          "height": 35
        },
        "id": "j7CsHK6EFvU8",
        "outputId": "ac940c33-7a09-48e5-dbf2-79006e6f71b6"
      },
      "execution_count": 92,
      "outputs": [
        {
          "output_type": "execute_result",
          "data": {
            "text/plain": [
              "'https://keshton.ir/ee_maps/b68aa93e114a41cbebabe830ac45e0c6-99575c12db99ef01245e3463d8d62197/tiles/{z}/{x}/{y}'"
            ],
            "application/vnd.google.colaboratory.intrinsic+json": {
              "type": "string"
            }
          },
          "metadata": {},
          "execution_count": 92
        }
      ]
    },
    {
      "cell_type": "code",
      "execution_count": 65,
      "metadata": {
        "id": "sORYMiYwqehd"
      },
      "outputs": [],
      "source": [
        "import folium"
      ]
    },
    {
      "cell_type": "code",
      "execution_count": 66,
      "metadata": {
        "colab": {
          "base_uri": "https://localhost:8080/"
        },
        "id": "GVm6MpaoqkJL",
        "outputId": "d7a26571-5eaa-4144-e194-9e05e8446e35"
      },
      "outputs": [
        {
          "output_type": "execute_result",
          "data": {
            "text/plain": [
              "<folium.raster_layers.TileLayer at 0x78da64fd3730>"
            ]
          },
          "metadata": {},
          "execution_count": 66
        }
      ],
      "source": [
        "Map = folium.Map(location=[35.49035794928868,51.757017795358166],zoom_start=14)\n",
        "\n",
        "basemaps = {'google sat':folium.TileLayer(\n",
        "      tiles = 'http://mt0.google.com/vt/lyrs=y&hl=en&x={x}&y={y}&z={z}&s=Ga',\n",
        "      attr = 'map data',\n",
        "      name ='google satellite',\n",
        "      overlay=True,\n",
        "      control = True\n",
        ")}\n",
        "\n",
        "basemaps['google sat'].add_to(Map)"
      ]
    },
    {
      "cell_type": "code",
      "source": [
        "print(tiles)\n",
        "folium.raster_layers.TileLayer(\n",
        "      tiles = tiles,\n",
        "      attr = 'map data',\n",
        "      name =\"ndvi map\",\n",
        "      overlay=True,\n",
        "      control = True,\n",
        "      opacity=1\n",
        "  ).add_to(Map)\n",
        "\n",
        "\n",
        "\n",
        "poly=folium.features.GeoJson(\n",
        "  location,\n",
        "  name = 'roads',\n",
        "  control = True,\n",
        "  style_function=lambda feature: {\n",
        "        \"fillColor\": \"#ffff00\",\n",
        "        \"color\": \"black\",\n",
        "        \"weight\": 2,\n",
        "        \"dashArray\": \"5, 5\",\n",
        "    }\n",
        ").add_to(Map)"
      ],
      "metadata": {
        "colab": {
          "base_uri": "https://localhost:8080/"
        },
        "id": "OJlFtniX2oRa",
        "outputId": "6f966a11-66ac-4bbb-b2fa-0b36ad23e9c2"
      },
      "execution_count": 97,
      "outputs": [
        {
          "output_type": "stream",
          "name": "stdout",
          "text": [
            "https://keshton.ir/ee_maps/8e3c97613c5d02263d94ed3379c1173f-04755c8f87414b5db90a9efef1b9244c/tiles/{z}/{x}/{y}\n"
          ]
        }
      ]
    },
    {
      "cell_type": "code",
      "execution_count": 99,
      "metadata": {
        "colab": {
          "base_uri": "https://localhost:8080/",
          "height": 772
        },
        "id": "3cPI2kqLqnle",
        "outputId": "cf50eb83-5a76-4334-87c5-96992017d4d1"
      },
      "outputs": [
        {
          "output_type": "stream",
          "name": "stdout",
          "text": [
            "{'type': 'Feature', 'properties': {'name': 'test'}, 'geometry': {'coordinates': [[[51.75889330279665, 35.491301434102795], [51.75776151360827, 35.492283033293916], [51.75573167430704, 35.490740514895094], [51.75614994422264, 35.49032983942088], [51.75420621931508, 35.48912785036225], [51.75494434269825, 35.48828644732369], [51.75792144034125, 35.48972884713936], [51.75889330279665, 35.491301434102795]]], 'type': 'Polygon'}, 'id': 1}\n"
          ]
        },
        {
          "output_type": "execute_result",
          "data": {
            "text/plain": [
              "<folium.folium.Map at 0x78da6518a2f0>"
            ],
            "text/html": [
              "<div style=\"width:100%;\"><div style=\"position:relative;width:100%;height:0;padding-bottom:60%;\"><span style=\"color:#565656\">Make this Notebook Trusted to load map: File -> Trust Notebook</span><iframe srcdoc=\"&lt;!DOCTYPE html&gt;\n",
              "&lt;html&gt;\n",
              "&lt;head&gt;\n",
              "    \n",
              "    &lt;meta http-equiv=&quot;content-type&quot; content=&quot;text/html; charset=UTF-8&quot; /&gt;\n",
              "    \n",
              "        &lt;script&gt;\n",
              "            L_NO_TOUCH = false;\n",
              "            L_DISABLE_3D = false;\n",
              "        &lt;/script&gt;\n",
              "    \n",
              "    &lt;style&gt;html, body {width: 100%;height: 100%;margin: 0;padding: 0;}&lt;/style&gt;\n",
              "    &lt;style&gt;#map {position:absolute;top:0;bottom:0;right:0;left:0;}&lt;/style&gt;\n",
              "    &lt;script src=&quot;https://cdn.jsdelivr.net/npm/leaflet@1.9.3/dist/leaflet.js&quot;&gt;&lt;/script&gt;\n",
              "    &lt;script src=&quot;https://code.jquery.com/jquery-1.12.4.min.js&quot;&gt;&lt;/script&gt;\n",
              "    &lt;script src=&quot;https://cdn.jsdelivr.net/npm/bootstrap@5.2.2/dist/js/bootstrap.bundle.min.js&quot;&gt;&lt;/script&gt;\n",
              "    &lt;script src=&quot;https://cdnjs.cloudflare.com/ajax/libs/Leaflet.awesome-markers/2.0.2/leaflet.awesome-markers.js&quot;&gt;&lt;/script&gt;\n",
              "    &lt;link rel=&quot;stylesheet&quot; href=&quot;https://cdn.jsdelivr.net/npm/leaflet@1.9.3/dist/leaflet.css&quot;/&gt;\n",
              "    &lt;link rel=&quot;stylesheet&quot; href=&quot;https://cdn.jsdelivr.net/npm/bootstrap@5.2.2/dist/css/bootstrap.min.css&quot;/&gt;\n",
              "    &lt;link rel=&quot;stylesheet&quot; href=&quot;https://netdna.bootstrapcdn.com/bootstrap/3.0.0/css/bootstrap.min.css&quot;/&gt;\n",
              "    &lt;link rel=&quot;stylesheet&quot; href=&quot;https://cdn.jsdelivr.net/npm/@fortawesome/fontawesome-free@6.2.0/css/all.min.css&quot;/&gt;\n",
              "    &lt;link rel=&quot;stylesheet&quot; href=&quot;https://cdnjs.cloudflare.com/ajax/libs/Leaflet.awesome-markers/2.0.2/leaflet.awesome-markers.css&quot;/&gt;\n",
              "    &lt;link rel=&quot;stylesheet&quot; href=&quot;https://cdn.jsdelivr.net/gh/python-visualization/folium/folium/templates/leaflet.awesome.rotate.min.css&quot;/&gt;\n",
              "    \n",
              "            &lt;meta name=&quot;viewport&quot; content=&quot;width=device-width,\n",
              "                initial-scale=1.0, maximum-scale=1.0, user-scalable=no&quot; /&gt;\n",
              "            &lt;style&gt;\n",
              "                #map_6b4da025d66be786ced26425ffd7c277 {\n",
              "                    position: relative;\n",
              "                    width: 100.0%;\n",
              "                    height: 100.0%;\n",
              "                    left: 0.0%;\n",
              "                    top: 0.0%;\n",
              "                }\n",
              "                .leaflet-container { font-size: 1rem; }\n",
              "            &lt;/style&gt;\n",
              "        \n",
              "&lt;/head&gt;\n",
              "&lt;body&gt;\n",
              "    \n",
              "    \n",
              "            &lt;div class=&quot;folium-map&quot; id=&quot;map_6b4da025d66be786ced26425ffd7c277&quot; &gt;&lt;/div&gt;\n",
              "        \n",
              "&lt;/body&gt;\n",
              "&lt;script&gt;\n",
              "    \n",
              "    \n",
              "            var map_6b4da025d66be786ced26425ffd7c277 = L.map(\n",
              "                &quot;map_6b4da025d66be786ced26425ffd7c277&quot;,\n",
              "                {\n",
              "                    center: [35.49035794928868, 51.757017795358166],\n",
              "                    crs: L.CRS.EPSG3857,\n",
              "                    zoom: 14,\n",
              "                    zoomControl: true,\n",
              "                    preferCanvas: false,\n",
              "                }\n",
              "            );\n",
              "\n",
              "            \n",
              "\n",
              "        \n",
              "    \n",
              "            var tile_layer_1703c167ffb35d2df461c463436f8447 = L.tileLayer(\n",
              "                &quot;https://{s}.tile.openstreetmap.org/{z}/{x}/{y}.png&quot;,\n",
              "                {&quot;attribution&quot;: &quot;Data by \\u0026copy; \\u003ca target=\\&quot;_blank\\&quot; href=\\&quot;http://openstreetmap.org\\&quot;\\u003eOpenStreetMap\\u003c/a\\u003e, under \\u003ca target=\\&quot;_blank\\&quot; href=\\&quot;http://www.openstreetmap.org/copyright\\&quot;\\u003eODbL\\u003c/a\\u003e.&quot;, &quot;detectRetina&quot;: false, &quot;maxNativeZoom&quot;: 18, &quot;maxZoom&quot;: 18, &quot;minZoom&quot;: 0, &quot;noWrap&quot;: false, &quot;opacity&quot;: 1, &quot;subdomains&quot;: &quot;abc&quot;, &quot;tms&quot;: false}\n",
              "            ).addTo(map_6b4da025d66be786ced26425ffd7c277);\n",
              "        \n",
              "    \n",
              "            var tile_layer_37a03d9851659754e27ed468fc3c8e69 = L.tileLayer(\n",
              "                &quot;http://mt0.google.com/vt/lyrs=y\\u0026hl=en\\u0026x={x}\\u0026y={y}\\u0026z={z}\\u0026s=Ga&quot;,\n",
              "                {&quot;attribution&quot;: &quot;map data&quot;, &quot;detectRetina&quot;: false, &quot;maxNativeZoom&quot;: 18, &quot;maxZoom&quot;: 18, &quot;minZoom&quot;: 0, &quot;noWrap&quot;: false, &quot;opacity&quot;: 1, &quot;subdomains&quot;: &quot;abc&quot;, &quot;tms&quot;: false}\n",
              "            ).addTo(map_6b4da025d66be786ced26425ffd7c277);\n",
              "        \n",
              "    \n",
              "            var tile_layer_4518bba6c0fd7fb0e2a233ed65983a1e = L.tileLayer(\n",
              "                &quot;https://keshton.ir/ee_maps/98a5569a983542793cae128c0f2bd563-d24cd7fbfeda42361786599ae7fb4bdd/tiles/{z}/{x}/{y}&quot;,\n",
              "                {&quot;attribution&quot;: &quot;map data&quot;, &quot;detectRetina&quot;: false, &quot;maxNativeZoom&quot;: 18, &quot;maxZoom&quot;: 18, &quot;minZoom&quot;: 0, &quot;noWrap&quot;: false, &quot;opacity&quot;: 1, &quot;subdomains&quot;: &quot;abc&quot;, &quot;tms&quot;: false}\n",
              "            ).addTo(map_6b4da025d66be786ced26425ffd7c277);\n",
              "        \n",
              "    \n",
              "            var layer_control_255acf3901addf826c52bc1affefaae8 = {\n",
              "                base_layers : {\n",
              "                    &quot;openstreetmap&quot; : tile_layer_1703c167ffb35d2df461c463436f8447,\n",
              "                },\n",
              "                overlays :  {\n",
              "                    &quot;google satellite&quot; : tile_layer_37a03d9851659754e27ed468fc3c8e69,\n",
              "                    &quot;ndvi map&quot; : tile_layer_eed63170956e1e6c5af3513d570d4726,\n",
              "                    &quot;roads&quot; : geo_json_f7f637a854bc8aff8372727df499710a,\n",
              "                },\n",
              "            };\n",
              "            L.control.layers(\n",
              "                layer_control_255acf3901addf826c52bc1affefaae8.base_layers,\n",
              "                layer_control_255acf3901addf826c52bc1affefaae8.overlays,\n",
              "                {&quot;autoZIndex&quot;: true, &quot;collapsed&quot;: true, &quot;position&quot;: &quot;topright&quot;}\n",
              "            ).addTo(map_6b4da025d66be786ced26425ffd7c277);\n",
              "        \n",
              "    \n",
              "        function geo_json_666f5ccb619ff1dd679ce49be9f17bdb_styler(feature) {\n",
              "            switch(feature.id) {\n",
              "                default:\n",
              "                    return {&quot;color&quot;: &quot;black&quot;, &quot;dashArray&quot;: &quot;5, 5&quot;, &quot;fillColor&quot;: &quot;#ffff00&quot;, &quot;weight&quot;: 2};\n",
              "            }\n",
              "        }\n",
              "\n",
              "        function geo_json_666f5ccb619ff1dd679ce49be9f17bdb_onEachFeature(feature, layer) {\n",
              "            layer.on({\n",
              "            });\n",
              "        };\n",
              "        var geo_json_666f5ccb619ff1dd679ce49be9f17bdb = L.geoJson(null, {\n",
              "                onEachFeature: geo_json_666f5ccb619ff1dd679ce49be9f17bdb_onEachFeature,\n",
              "            \n",
              "                style: geo_json_666f5ccb619ff1dd679ce49be9f17bdb_styler,\n",
              "        });\n",
              "\n",
              "        function geo_json_666f5ccb619ff1dd679ce49be9f17bdb_add (data) {\n",
              "            geo_json_666f5ccb619ff1dd679ce49be9f17bdb\n",
              "                .addData(data)\n",
              "                .addTo(map_6b4da025d66be786ced26425ffd7c277);\n",
              "        }\n",
              "            geo_json_666f5ccb619ff1dd679ce49be9f17bdb_add({&quot;features&quot;: [{&quot;geometry&quot;: {&quot;coordinates&quot;: [[[51.75889330279665, 35.491301434102795], [51.75776151360827, 35.492283033293916], [51.75573167430704, 35.490740514895094], [51.75614994422264, 35.49032983942088], [51.75420621931508, 35.48912785036225], [51.75494434269825, 35.48828644732369], [51.75792144034125, 35.48972884713936], [51.75889330279665, 35.491301434102795]]], &quot;type&quot;: &quot;Polygon&quot;}, &quot;id&quot;: 1, &quot;properties&quot;: {&quot;name&quot;: &quot;test&quot;}, &quot;type&quot;: &quot;Feature&quot;}], &quot;type&quot;: &quot;FeatureCollection&quot;});\n",
              "\n",
              "        \n",
              "    \n",
              "            map_6b4da025d66be786ced26425ffd7c277.fitBounds(\n",
              "                [[35.48828644732369, 51.75420621931508], [35.492283033293916, 51.75889330279665]],\n",
              "                {}\n",
              "            );\n",
              "        \n",
              "    \n",
              "            var tile_layer_bef1c251ea4f5b696bdb1cc4d64a1341 = L.tileLayer(\n",
              "                &quot;https://keshton.ir/ee_maps/8e3c97613c5d02263d94ed3379c1173f-04755c8f87414b5db90a9efef1b9244c/tiles/{z}/{x}/{y}&quot;,\n",
              "                {&quot;attribution&quot;: &quot;map data&quot;, &quot;detectRetina&quot;: false, &quot;maxNativeZoom&quot;: 18, &quot;maxZoom&quot;: 18, &quot;minZoom&quot;: 0, &quot;noWrap&quot;: false, &quot;opacity&quot;: 1, &quot;subdomains&quot;: &quot;abc&quot;, &quot;tms&quot;: false}\n",
              "            ).addTo(map_6b4da025d66be786ced26425ffd7c277);\n",
              "        \n",
              "    \n",
              "            var layer_control_3c8248372ae7700952a461b8ed9bb1b2 = {\n",
              "                base_layers : {\n",
              "                    &quot;openstreetmap&quot; : tile_layer_1703c167ffb35d2df461c463436f8447,\n",
              "                },\n",
              "                overlays :  {\n",
              "                    &quot;google satellite&quot; : tile_layer_37a03d9851659754e27ed468fc3c8e69,\n",
              "                    &quot;ndvi map&quot; : tile_layer_eed63170956e1e6c5af3513d570d4726,\n",
              "                    &quot;roads&quot; : geo_json_f7f637a854bc8aff8372727df499710a,\n",
              "                },\n",
              "            };\n",
              "            L.control.layers(\n",
              "                layer_control_3c8248372ae7700952a461b8ed9bb1b2.base_layers,\n",
              "                layer_control_3c8248372ae7700952a461b8ed9bb1b2.overlays,\n",
              "                {&quot;autoZIndex&quot;: true, &quot;collapsed&quot;: true, &quot;position&quot;: &quot;topright&quot;}\n",
              "            ).addTo(map_6b4da025d66be786ced26425ffd7c277);\n",
              "        \n",
              "    \n",
              "        function geo_json_5a8cdaefb80cd1bc4c2db05c548ed0ab_styler(feature) {\n",
              "            switch(feature.id) {\n",
              "                default:\n",
              "                    return {&quot;color&quot;: &quot;black&quot;, &quot;dashArray&quot;: &quot;5, 5&quot;, &quot;fillColor&quot;: &quot;#ffff00&quot;, &quot;weight&quot;: 2};\n",
              "            }\n",
              "        }\n",
              "\n",
              "        function geo_json_5a8cdaefb80cd1bc4c2db05c548ed0ab_onEachFeature(feature, layer) {\n",
              "            layer.on({\n",
              "            });\n",
              "        };\n",
              "        var geo_json_5a8cdaefb80cd1bc4c2db05c548ed0ab = L.geoJson(null, {\n",
              "                onEachFeature: geo_json_5a8cdaefb80cd1bc4c2db05c548ed0ab_onEachFeature,\n",
              "            \n",
              "                style: geo_json_5a8cdaefb80cd1bc4c2db05c548ed0ab_styler,\n",
              "        });\n",
              "\n",
              "        function geo_json_5a8cdaefb80cd1bc4c2db05c548ed0ab_add (data) {\n",
              "            geo_json_5a8cdaefb80cd1bc4c2db05c548ed0ab\n",
              "                .addData(data)\n",
              "                .addTo(map_6b4da025d66be786ced26425ffd7c277);\n",
              "        }\n",
              "            geo_json_5a8cdaefb80cd1bc4c2db05c548ed0ab_add({&quot;features&quot;: [{&quot;geometry&quot;: {&quot;coordinates&quot;: [[[51.75889330279665, 35.491301434102795], [51.75776151360827, 35.492283033293916], [51.75573167430704, 35.490740514895094], [51.75614994422264, 35.49032983942088], [51.75420621931508, 35.48912785036225], [51.75494434269825, 35.48828644732369], [51.75792144034125, 35.48972884713936], [51.75889330279665, 35.491301434102795]]], &quot;type&quot;: &quot;Polygon&quot;}, &quot;id&quot;: 1, &quot;properties&quot;: {&quot;name&quot;: &quot;test&quot;}, &quot;type&quot;: &quot;Feature&quot;}], &quot;type&quot;: &quot;FeatureCollection&quot;});\n",
              "\n",
              "        \n",
              "    \n",
              "            map_6b4da025d66be786ced26425ffd7c277.fitBounds(\n",
              "                [[35.48828644732369, 51.75420621931508], [35.492283033293916, 51.75889330279665]],\n",
              "                {}\n",
              "            );\n",
              "        \n",
              "    \n",
              "            map_6b4da025d66be786ced26425ffd7c277.fitBounds(\n",
              "                [[35.48828644732369, 51.75420621931508], [35.492283033293916, 51.75889330279665]],\n",
              "                {}\n",
              "            );\n",
              "        \n",
              "    \n",
              "            var layer_control_a91e46e3653301317be87442a712a793 = {\n",
              "                base_layers : {\n",
              "                    &quot;openstreetmap&quot; : tile_layer_1703c167ffb35d2df461c463436f8447,\n",
              "                },\n",
              "                overlays :  {\n",
              "                    &quot;google satellite&quot; : tile_layer_37a03d9851659754e27ed468fc3c8e69,\n",
              "                    &quot;ndvi map&quot; : tile_layer_eed63170956e1e6c5af3513d570d4726,\n",
              "                    &quot;roads&quot; : geo_json_f7f637a854bc8aff8372727df499710a,\n",
              "                },\n",
              "            };\n",
              "            L.control.layers(\n",
              "                layer_control_a91e46e3653301317be87442a712a793.base_layers,\n",
              "                layer_control_a91e46e3653301317be87442a712a793.overlays,\n",
              "                {&quot;autoZIndex&quot;: true, &quot;collapsed&quot;: true, &quot;position&quot;: &quot;topright&quot;}\n",
              "            ).addTo(map_6b4da025d66be786ced26425ffd7c277);\n",
              "        \n",
              "    \n",
              "            var tile_layer_eed63170956e1e6c5af3513d570d4726 = L.tileLayer(\n",
              "                &quot;https://keshton.ir/ee_maps/8e3c97613c5d02263d94ed3379c1173f-04755c8f87414b5db90a9efef1b9244c/tiles/{z}/{x}/{y}&quot;,\n",
              "                {&quot;attribution&quot;: &quot;map data&quot;, &quot;detectRetina&quot;: false, &quot;maxNativeZoom&quot;: 18, &quot;maxZoom&quot;: 18, &quot;minZoom&quot;: 0, &quot;noWrap&quot;: false, &quot;opacity&quot;: 1, &quot;subdomains&quot;: &quot;abc&quot;, &quot;tms&quot;: false}\n",
              "            ).addTo(map_6b4da025d66be786ced26425ffd7c277);\n",
              "        \n",
              "    \n",
              "        function geo_json_f7f637a854bc8aff8372727df499710a_styler(feature) {\n",
              "            switch(feature.id) {\n",
              "                default:\n",
              "                    return {&quot;color&quot;: &quot;black&quot;, &quot;dashArray&quot;: &quot;5, 5&quot;, &quot;fillColor&quot;: &quot;#ffff00&quot;, &quot;weight&quot;: 2};\n",
              "            }\n",
              "        }\n",
              "\n",
              "        function geo_json_f7f637a854bc8aff8372727df499710a_onEachFeature(feature, layer) {\n",
              "            layer.on({\n",
              "            });\n",
              "        };\n",
              "        var geo_json_f7f637a854bc8aff8372727df499710a = L.geoJson(null, {\n",
              "                onEachFeature: geo_json_f7f637a854bc8aff8372727df499710a_onEachFeature,\n",
              "            \n",
              "                style: geo_json_f7f637a854bc8aff8372727df499710a_styler,\n",
              "        });\n",
              "\n",
              "        function geo_json_f7f637a854bc8aff8372727df499710a_add (data) {\n",
              "            geo_json_f7f637a854bc8aff8372727df499710a\n",
              "                .addData(data)\n",
              "                .addTo(map_6b4da025d66be786ced26425ffd7c277);\n",
              "        }\n",
              "            geo_json_f7f637a854bc8aff8372727df499710a_add({&quot;features&quot;: [{&quot;geometry&quot;: {&quot;coordinates&quot;: [[[51.75889330279665, 35.491301434102795], [51.75776151360827, 35.492283033293916], [51.75573167430704, 35.490740514895094], [51.75614994422264, 35.49032983942088], [51.75420621931508, 35.48912785036225], [51.75494434269825, 35.48828644732369], [51.75792144034125, 35.48972884713936], [51.75889330279665, 35.491301434102795]]], &quot;type&quot;: &quot;Polygon&quot;}, &quot;id&quot;: 1, &quot;properties&quot;: {&quot;name&quot;: &quot;test&quot;}, &quot;type&quot;: &quot;Feature&quot;}], &quot;type&quot;: &quot;FeatureCollection&quot;});\n",
              "\n",
              "        \n",
              "    \n",
              "            map_6b4da025d66be786ced26425ffd7c277.fitBounds(\n",
              "                [[35.48828644732369, 51.75420621931508], [35.492283033293916, 51.75889330279665]],\n",
              "                {}\n",
              "            );\n",
              "        \n",
              "    \n",
              "            var layer_control_83fda9aa0af613a384038bf0124c6237 = {\n",
              "                base_layers : {\n",
              "                    &quot;openstreetmap&quot; : tile_layer_1703c167ffb35d2df461c463436f8447,\n",
              "                },\n",
              "                overlays :  {\n",
              "                    &quot;google satellite&quot; : tile_layer_37a03d9851659754e27ed468fc3c8e69,\n",
              "                    &quot;ndvi map&quot; : tile_layer_eed63170956e1e6c5af3513d570d4726,\n",
              "                    &quot;roads&quot; : geo_json_f7f637a854bc8aff8372727df499710a,\n",
              "                },\n",
              "            };\n",
              "            L.control.layers(\n",
              "                layer_control_83fda9aa0af613a384038bf0124c6237.base_layers,\n",
              "                layer_control_83fda9aa0af613a384038bf0124c6237.overlays,\n",
              "                {&quot;autoZIndex&quot;: true, &quot;collapsed&quot;: true, &quot;position&quot;: &quot;topright&quot;}\n",
              "            ).addTo(map_6b4da025d66be786ced26425ffd7c277);\n",
              "        \n",
              "    \n",
              "            map_6b4da025d66be786ced26425ffd7c277.fitBounds(\n",
              "                [[35.48828644732369, 51.75420621931508], [35.492283033293916, 51.75889330279665]],\n",
              "                {}\n",
              "            );\n",
              "        \n",
              "    \n",
              "            var layer_control_8977d9337dbed677e9494b4d000d806b = {\n",
              "                base_layers : {\n",
              "                    &quot;openstreetmap&quot; : tile_layer_1703c167ffb35d2df461c463436f8447,\n",
              "                },\n",
              "                overlays :  {\n",
              "                    &quot;google satellite&quot; : tile_layer_37a03d9851659754e27ed468fc3c8e69,\n",
              "                    &quot;ndvi map&quot; : tile_layer_eed63170956e1e6c5af3513d570d4726,\n",
              "                    &quot;roads&quot; : geo_json_f7f637a854bc8aff8372727df499710a,\n",
              "                },\n",
              "            };\n",
              "            L.control.layers(\n",
              "                layer_control_8977d9337dbed677e9494b4d000d806b.base_layers,\n",
              "                layer_control_8977d9337dbed677e9494b4d000d806b.overlays,\n",
              "                {&quot;autoZIndex&quot;: true, &quot;collapsed&quot;: true, &quot;position&quot;: &quot;topright&quot;}\n",
              "            ).addTo(map_6b4da025d66be786ced26425ffd7c277);\n",
              "        \n",
              "&lt;/script&gt;\n",
              "&lt;/html&gt;\" style=\"position:absolute;width:100%;height:100%;left:0;top:0;border:none !important;\" allowfullscreen webkitallowfullscreen mozallowfullscreen></iframe></div></div>"
            ]
          },
          "metadata": {},
          "execution_count": 99
        }
      ],
      "source": [
        "Map.fit_bounds(poly.get_bounds())\n",
        "\n",
        "folium.LayerControl().add_to(Map)\n",
        "print(location)\n",
        "Map"
      ]
    }
  ],
  "metadata": {
    "colab": {
      "provenance": []
    },
    "kernelspec": {
      "display_name": "Python 3",
      "name": "python3"
    },
    "language_info": {
      "name": "python"
    }
  },
  "nbformat": 4,
  "nbformat_minor": 0
}
