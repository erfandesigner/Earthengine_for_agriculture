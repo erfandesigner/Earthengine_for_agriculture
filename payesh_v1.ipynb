{
  "cells": [
    {
      "cell_type": "markdown",
      "metadata": {
        "id": "view-in-github",
        "colab_type": "text"
      },
      "source": [
        "<a href=\"https://colab.research.google.com/github/erfandesigner/Earthengine_for_agriculture/blob/main/payesh_v1.ipynb\" target=\"_parent\"><img src=\"https://colab.research.google.com/assets/colab-badge.svg\" alt=\"Open In Colab\"/></a>"
      ]
    },
    {
      "cell_type": "code",
      "execution_count": null,
      "metadata": {
        "id": "WeZ3MjT_oY50"
      },
      "outputs": [],
      "source": [
        "!pip install earthengine-api #earth-engine Python API"
      ]
    },
    {
      "cell_type": "code",
      "execution_count": null,
      "metadata": {
        "colab": {
          "base_uri": "https://localhost:8080/"
        },
        "id": "l5UmMMN6oc7b",
        "outputId": "30040067-39f7-4379-8e64-eb8e955ea084"
      },
      "outputs": [
        {
          "metadata": {
            "tags": null
          },
          "name": "stdout",
          "output_type": "stream",
          "text": [
            "To authorize access needed by Earth Engine, open the following URL in a web browser and follow the instructions. If the web browser does not start automatically, please manually browse the URL below.\n",
            "\n",
            "    https://code.earthengine.google.com/client-auth?scopes=https%3A//www.googleapis.com/auth/earthengine%20https%3A//www.googleapis.com/auth/devstorage.full_control&request_id=FDFQIn1Fp6Atg9d6O2Qfccg1TNUSltdzGDL_x_AmeMc&tc=-Sy2reooyKElWwLLe667SwiCZNEiciRbszIlMFold6o&cc=nKzW2ShwBWCY2cNIloa5rVsjCdAF7i84k1TfRngihrQ\n",
            "\n",
            "The authorization workflow will generate a code, which you should paste in the box below.\n",
            "Enter verification code: "
          ]
        }
      ],
      "source": [
        "!earthengine authenticate"
      ]
    },
    {
      "cell_type": "code",
      "execution_count": null,
      "metadata": {
        "id": "cDo2P0W6ohOj"
      },
      "outputs": [],
      "source": [
        "import ee\n",
        "import datetime\n",
        "\n",
        "ee.Initialize()"
      ]
    },
    {
      "cell_type": "code",
      "execution_count": null,
      "metadata": {
        "id": "BSBz_qCBoupN"
      },
      "outputs": [],
      "source": [
        "location={\n",
        "      \"type\": \"Feature\",\n",
        "      \"properties\": {\n",
        "        \"name\": \"test\"\n",
        "      },\n",
        "      \"geometry\": {\n",
        "        \"coordinates\": [\n",
        "          [\n",
        "            [\n",
        "              51.75889330279665,\n",
        "              35.491301434102795\n",
        "            ],\n",
        "            [\n",
        "              51.75776151360827,\n",
        "              35.492283033293916\n",
        "            ],\n",
        "            [\n",
        "              51.75573167430704,\n",
        "              35.490740514895094\n",
        "            ],\n",
        "            [\n",
        "              51.75614994422264,\n",
        "              35.49032983942088\n",
        "            ],\n",
        "            [\n",
        "              51.75420621931508,\n",
        "              35.48912785036225\n",
        "            ],\n",
        "            [\n",
        "              51.75494434269825,\n",
        "              35.48828644732369\n",
        "            ],\n",
        "            [\n",
        "              51.75792144034125,\n",
        "              35.48972884713936\n",
        "            ],\n",
        "            [\n",
        "              51.75889330279665,\n",
        "              35.491301434102795\n",
        "            ]\n",
        "          ]\n",
        "        ],\n",
        "        \"type\": \"Polygon\"\n",
        "      },\n",
        "      \"id\": 1\n",
        "    }\n",
        "fdate='2022-12-22'\n",
        "edate='2023-02-22'"
      ]
    },
    {
      "cell_type": "code",
      "execution_count": null,
      "metadata": {
        "id": "UcumKJmTotMu"
      },
      "outputs": [],
      "source": [
        "if 'geometry' in location:\n",
        "  geometry = ee.Geometry(location['geometry'])\n",
        "else:\n",
        "  geometry = ee.Geometry(location)"
      ]
    },
    {
      "cell_type": "markdown",
      "metadata": {
        "id": "nNME3tYBpGHK"
      },
      "source": [
        "find date series of satellite"
      ]
    },
    {
      "cell_type": "code",
      "execution_count": null,
      "metadata": {
        "id": "nH-reIqlo3VR"
      },
      "outputs": [],
      "source": [
        "image_colection = ee.ImageCollection(\"COPERNICUS/S2_SR_HARMONIZED\").filterDate(fdate,edate).filterBounds(geometry)\n",
        "dates_miliseconds = image_colection.reduceColumns(ee.Reducer.toList(), [\"system:time_start\"]).get('list').getInfo()\n",
        "cloudy_pixel_precentage = image_colection.aggregate_array(\"CLOUDY_PIXEL_PERCENTAGE\").getInfo()"
      ]
    },
    {
      "cell_type": "code",
      "execution_count": null,
      "metadata": {
        "colab": {
          "base_uri": "https://localhost:8080/"
        },
        "id": "PkyYaR6Ao7Sc",
        "outputId": "9fe51ed3-456d-4070-f20a-1a0f8e6c3c3b"
      },
      "outputs": [
        {
          "data": {
            "text/plain": [
              "['2022-12-23',\n",
              " '2022-12-28',\n",
              " '2023-01-02',\n",
              " '2023-01-07',\n",
              " '2023-01-12',\n",
              " '2023-01-17',\n",
              " '2023-01-22',\n",
              " '2023-01-27',\n",
              " '2023-02-01',\n",
              " '2023-02-06',\n",
              " '2023-02-11',\n",
              " '2023-02-16',\n",
              " '2023-02-21']"
            ]
          },
          "execution_count": 42,
          "metadata": {},
          "output_type": "execute_result"
        }
      ],
      "source": [
        "dates = [datetime.datetime.fromtimestamp(mili_second/1000).strftime(\"%Y-%m-%d\") for mili_second in dates_miliseconds]\n",
        "dates\n"
      ]
    },
    {
      "cell_type": "code",
      "execution_count": null,
      "metadata": {
        "colab": {
          "base_uri": "https://localhost:8080/"
        },
        "id": "drVHTVxSrKMY",
        "outputId": "fd68bcf1-7460-47d6-d965-1edced353f85"
      },
      "outputs": [
        {
          "data": {
            "text/plain": [
              "[3.141383,\n",
              " 17.800988,\n",
              " 0.000322,\n",
              " 3.146922,\n",
              " 66.381991,\n",
              " 62.436754,\n",
              " 7.373483,\n",
              " 48.20841,\n",
              " 4.202946,\n",
              " 51.896495,\n",
              " 23.116735,\n",
              " 11.311141,\n",
              " 0.113497]"
            ]
          },
          "execution_count": 43,
          "metadata": {},
          "output_type": "execute_result"
        }
      ],
      "source": [
        "cloudy_pixel_precentage"
      ]
    },
    {
      "cell_type": "markdown",
      "metadata": {
        "id": "P7neuTuFpMHX"
      },
      "source": [
        "start  get image"
      ]
    },
    {
      "cell_type": "code",
      "execution_count": null,
      "metadata": {
        "id": "MKc0NybTpOp8"
      },
      "outputs": [],
      "source": [
        "bandIndexExps = [\n",
        "                '(b(7) - b(3)) / (b(7) +b(3))',\n",
        "                '(b(7) - b(4)) / (b(7) +b(4))',\n",
        "                '((2 * b(7) + 1 - sqrt(((2 * b(7) + 1) * 2) - 8*(b(7) - b(3)))) / 2)',\n",
        "                '(b(7) - b(10)) / (b(7) +b(10))',\n",
        "                '(b(11) - b(7)) / (b(11) +b(7))',\n",
        "                'b(7) / (b(3) + b(7))',\n",
        "                'b(7) - b(3)',\n",
        "                '(2.5 * (b(7) - b(3))) / (1 + b(7) + 6* b(3) - 7.5* b(2))',\n",
        "                '1.16 * ((b(7) - b(3)) / (b(7) + b(3) + 0.16))',\n",
        "                'b(3) - 0.735 * (b(1) - b(3))',\n",
        "                '(2 * (b(7)**2 -b(3)**2) + 1.5*b(7) + 0.5*b(3)) / (b(7) + b(3) + 0.5)'\n",
        "                ]\n",
        "NDVI =None\n",
        "bandIndexNames =  ['NDVI', 'NDRE', 'MSAVI2', 'NDMI', 'NDWI', 'IPVI', 'DVI', 'SARVI2', 'OSAVI','RGB','n']\n",
        "\n",
        "\n",
        "params = {\n",
        "  \"NDVI\":{ 'min': -1,\n",
        "            'max': 1,\n",
        "            'palette': [\n",
        "                    \"#007e47\", \"#009755\", \"#14aa60\", \"#77ca6f\", \"#b9e383\",\n",
        "                    \"#d5ef94\", \"#eaf7ac\", \"#fdfec2\", \"#ffefab\", \"#ffe093\",\"#ffc67d\",\n",
        "                    \"#ffab69\", \"#ff8d5a\", \"#ffcc66\", \"#fe6c4a\", \"#ef4c3a\", \"#e02d2c\",\n",
        "                    \"#c5142a\", \"#ad0028\"]\n",
        "          },\n",
        "  'NDRE':{ 'min': -1,\n",
        "            'max': 1,\n",
        "            'palette': [\n",
        "                    \"#800000\", \"#800000\", \"#800000\", \"#800000\", \"#800000\",\n",
        "                    \"#800000\", \"#800000\", \"#800000\", \"#800000\", \"#800000\",\"#800000\",\n",
        "                    \"#ff6600\", \"#ff9966\", \"#ffcc66\", \"#ccff99\", \"#ccff99\", \"#99ff99\",\n",
        "                    \"#00ff00\", \"#009933\", \"#003300\"]\n",
        "          },\n",
        "  'MSAVI2':{ 'min': -1,\n",
        "            'max': 1,\n",
        "            'palette': [\n",
        "                    \"#800000\", \"#800000\", \"#800000\", \"#800000\", \"#800000\",\n",
        "                    \"#800000\", \"#800000\", \"#800000\", \"#800000\", \"#800000\",\"#800000\",\n",
        "                    \"#ff6600\", \"#ff9966\", \"#ffcc66\", \"#ccff99\", \"#ccff99\", \"#99ff99\",\n",
        "                    \"#00ff00\", \"#009933\", \"#003300\"]\n",
        "          },\n",
        "  'NDMI':{ 'min': -1,\n",
        "            'max': 1,\n",
        "            'palette': [\n",
        "                    \"#800000\", \"#800000\", \"#800000\", \"#800000\", \"#800000\",\n",
        "                    \"#800000\", \"#800000\", \"#800000\", \"#800000\", \"#800000\",\"#800000\",\n",
        "                    \"#ff6600\", \"#ff9966\", \"#ffcc66\", \"#ccff99\", \"#ccff99\", \"#99ff99\",\n",
        "                    \"#00ff00\", \"#009933\", \"#003300\"]\n",
        "          },\n",
        "  'NDWI':{ 'min': -1,\n",
        "            'max': 1,\n",
        "            'palette': [\n",
        "                    \"#800000\", \"#800000\", \"#800000\", \"#800000\", \"#800000\",\n",
        "                    \"#800000\", \"#800000\", \"#800000\", \"#800000\", \"#800000\",\"#800000\",\n",
        "                    \"#ff6600\", \"#ff9966\", \"#ffcc66\", \"#ccff99\", \"#ccff99\", \"#99ff99\",\n",
        "                    \"#00ff00\", \"#009933\", \"#003300\"]\n",
        "          },\n",
        "  'IPVI':{ 'min': -1,\n",
        "            'max': 1,\n",
        "            'palette': [\n",
        "                    \"#800000\", \"#800000\", \"#800000\", \"#800000\", \"#800000\",\n",
        "                    \"#800000\", \"#800000\", \"#800000\", \"#800000\", \"#800000\",\"#800000\",\n",
        "                    \"#ff6600\", \"#ff9966\", \"#ffcc66\", \"#ccff99\", \"#ccff99\", \"#99ff99\",\n",
        "                    \"#00ff00\", \"#009933\", \"#003300\"]\n",
        "          },\n",
        "  'DVI':{ 'min': -1,\n",
        "            'max': 1,\n",
        "            'palette': [\n",
        "                    \"#800000\", \"#800000\", \"#800000\", \"#800000\", \"#800000\",\n",
        "                    \"#800000\", \"#800000\", \"#800000\", \"#800000\", \"#800000\",\"#800000\",\n",
        "                    \"#ff6600\", \"#ff9966\", \"#ffcc66\", \"#ccff99\", \"#ccff99\", \"#99ff99\",\n",
        "                    \"#00ff00\", \"#009933\", \"#003300\"]\n",
        "          },\n",
        "  'SARVI2':{ 'min': -1,\n",
        "            'max': 1,\n",
        "            'palette': [\n",
        "                    \"#800000\", \"#800000\", \"#800000\", \"#800000\", \"#800000\",\n",
        "                    \"#800000\", \"#800000\", \"#800000\", \"#800000\", \"#800000\",\"#800000\",\n",
        "                    \"#ff6600\", \"#ff9966\", \"#ffcc66\", \"#ccff99\", \"#ccff99\", \"#99ff99\",\n",
        "                    \"#00ff00\", \"#009933\", \"#003300\"]\n",
        "          },\n",
        "  'RGB':{ 'min': 0,\n",
        "            'max': 6500,\n",
        "            'palette': []\n",
        "          },\n",
        "  'OSAVI':{ 'min': -1,\n",
        "            'max': 1,\n",
        "            'palette': [\n",
        "                    \"#800000\", \"#800000\", \"#800000\", \"#800000\", \"#800000\",\n",
        "                    \"#800000\", \"#800000\", \"#800000\", \"#800000\", \"#800000\",\"#800000\",\n",
        "                    \"#ff6600\", \"#ff9966\", \"#ffcc66\", \"#ccff99\", \"#ccff99\", \"#99ff99\",\n",
        "                    \"#00ff00\", \"#009933\", \"#003300\"]\n",
        "          }\n",
        "  }"
      ]
    },
    {
      "cell_type": "code",
      "execution_count": null,
      "metadata": {
        "id": "LP7_t0ZSpk4v"
      },
      "outputs": [],
      "source": [
        "bandName=\"NDVI\"\n",
        "fdate='2022-12-23'\n",
        "edate='2022-12-24'\n"
      ]
    },
    {
      "cell_type": "code",
      "execution_count": null,
      "metadata": {
        "id": "5nhN8cD1pbb-"
      },
      "outputs": [],
      "source": [
        "IndexNames=bandIndexNames.index(bandName)\n",
        "\n",
        "if 'geometry' in location:\n",
        "  geometry = ee.Geometry(location['geometry'])\n",
        "else:\n",
        "  geometry = ee.Geometry(location)"
      ]
    },
    {
      "cell_type": "code",
      "execution_count": null,
      "metadata": {
        "id": "M7LVdxZ0phm7"
      },
      "outputs": [],
      "source": [
        "image_collection = ee.ImageCollection(\"COPERNICUS/S2_SR_HARMONIZED\").filterDate(fdate,edate).filterBounds(geometry)\n",
        "image_collection_size = image_collection.size().getInfo()\n",
        "image_collection_list = image_collection.toList(image_collection_size)\n",
        "selected_image_index = 0\n",
        "\n",
        "image = ee.Image(image_collection_list.get(selected_image_index)).clip(geometry)"
      ]
    },
    {
      "cell_type": "code",
      "execution_count": null,
      "metadata": {
        "colab": {
          "base_uri": "https://localhost:8080/",
          "height": 35
        },
        "id": "rvk5pmOTpr52",
        "outputId": "50da359f-2919-4e7c-ad93-8f0d8515a86f"
      },
      "outputs": [
        {
          "data": {
            "application/vnd.google.colaboratory.intrinsic+json": {
              "type": "string"
            },
            "text/plain": [
              "'https://keshton.ir/ee_maps/98a5569a983542793cae128c0f2bd563-bd945dccaecab456cda31ce0172e5162/tiles/{z}/{x}/{y}'"
            ]
          },
          "execution_count": 55,
          "metadata": {},
          "output_type": "execute_result"
        }
      ],
      "source": [
        "if bandName!=\"RGB\":\n",
        "  map_id_dict = ee.Image(NDVI).getMapId(params[str(bandName)])\n",
        "else:\n",
        "  rgb_image= image.visualize(bands=['B4', 'B3', 'B2'],\n",
        "                min=0,\n",
        "                max=6500\n",
        "              )\n",
        "  map_id_dict = rgb_image.getMapId()\n",
        "tiles=map_id_dict[\"tile_fetcher\"].url_format\n",
        "tiles=tiles.replace(\"https://earthengine.googleapis.com/v1/projects/earthengine-legacy/maps/\",\"https://keshton.ir/ee_maps/\")\n",
        "tiles"
      ]
    },
    {
      "cell_type": "code",
      "execution_count": null,
      "metadata": {
        "id": "sORYMiYwqehd"
      },
      "outputs": [],
      "source": [
        "import folium"
      ]
    },
    {
      "cell_type": "code",
      "execution_count": null,
      "metadata": {
        "colab": {
          "base_uri": "https://localhost:8080/"
        },
        "id": "GVm6MpaoqkJL",
        "outputId": "3fdbb0b5-8673-4a9d-b332-a3493c37d852"
      },
      "outputs": [
        {
          "data": {
            "text/plain": [
              "<folium.raster_layers.TileLayer at 0x79fc955f1b10>"
            ]
          },
          "execution_count": 50,
          "metadata": {},
          "output_type": "execute_result"
        }
      ],
      "source": [
        "Map = folium.Map(location=[35.49035794928868,51.757017795358166],zoom_start=14)\n",
        "\n",
        "basemaps = {'google sat':folium.TileLayer(\n",
        "      tiles = 'http://mt0.google.com/vt/lyrs=y&hl=en&x={x}&y={y}&z={z}&s=Ga',\n",
        "      attr = 'map data',\n",
        "      name ='google satellite',\n",
        "      overlay=True,\n",
        "      control = True\n",
        ")}\n",
        "\n",
        "basemaps['google sat'].add_to(Map)"
      ]
    },
    {
      "cell_type": "code",
      "execution_count": 62,
      "metadata": {
        "colab": {
          "base_uri": "https://localhost:8080/",
          "height": 263
        },
        "id": "3cPI2kqLqnle",
        "outputId": "064569f0-de68-48cd-bfcb-baf8e9fa9e26"
      },
      "outputs": [
        {
          "output_type": "stream",
          "name": "stdout",
          "text": [
            "https://keshton.ir/ee_maps/98a5569a983542793cae128c0f2bd563-bd945dccaecab456cda31ce0172e5162/tiles/{z}/{x}/{y}\n"
          ]
        },
        {
          "output_type": "error",
          "ename": "AttributeError",
          "evalue": "ignored",
          "traceback": [
            "\u001b[0;31m---------------------------------------------------------------------------\u001b[0m",
            "\u001b[0;31mAttributeError\u001b[0m                            Traceback (most recent call last)",
            "\u001b[0;32m<ipython-input-62-3277be65c7fc>\u001b[0m in \u001b[0;36m<cell line: 27>\u001b[0;34m()\u001b[0m\n\u001b[1;32m     25\u001b[0m \u001b[0;34m\u001b[0m\u001b[0m\n\u001b[1;32m     26\u001b[0m \u001b[0mfg2\u001b[0m \u001b[0;34m=\u001b[0m \u001b[0mfolium\u001b[0m\u001b[0;34m.\u001b[0m\u001b[0mFeatureGroup\u001b[0m\u001b[0;34m(\u001b[0m\u001b[0mshow\u001b[0m\u001b[0;34m=\u001b[0m\u001b[0;32mFalse\u001b[0m\u001b[0;34m)\u001b[0m\u001b[0;34m.\u001b[0m\u001b[0madd_to\u001b[0m\u001b[0;34m(\u001b[0m\u001b[0mMap\u001b[0m\u001b[0;34m)\u001b[0m\u001b[0;34m\u001b[0m\u001b[0;34m\u001b[0m\u001b[0m\n\u001b[0;32m---> 27\u001b[0;31m \u001b[0mfolium\u001b[0m\u001b[0;34m.\u001b[0m\u001b[0mFitOverlays\u001b[0m\u001b[0;34m(\u001b[0m\u001b[0;34m)\u001b[0m\u001b[0;34m.\u001b[0m\u001b[0madd_to\u001b[0m\u001b[0;34m(\u001b[0m\u001b[0mMap\u001b[0m\u001b[0;34m)\u001b[0m\u001b[0;34m\u001b[0m\u001b[0;34m\u001b[0m\u001b[0m\n\u001b[0m\u001b[1;32m     28\u001b[0m \u001b[0;34m\u001b[0m\u001b[0m\n\u001b[1;32m     29\u001b[0m \u001b[0mprint\u001b[0m\u001b[0;34m(\u001b[0m\u001b[0mlocation\u001b[0m\u001b[0;34m)\u001b[0m\u001b[0;34m\u001b[0m\u001b[0;34m\u001b[0m\u001b[0m\n",
            "\u001b[0;31mAttributeError\u001b[0m: module 'folium' has no attribute 'FitOverlays'"
          ]
        }
      ],
      "source": [
        "print(tiles)\n",
        "folium.raster_layers.TileLayer(\n",
        "      tiles = tiles,\n",
        "      attr = 'map data',\n",
        "      name =\"ndvi map\",\n",
        "      overlay=True,\n",
        "      control = True,\n",
        "      opacity=1\n",
        "  ).add_to(Map)\n",
        "\n",
        "folium.LayerControl().add_to(Map)\n",
        "\n",
        "poly=folium.features.GeoJson(\n",
        "  location,\n",
        "  name = 'roads',\n",
        "  control = True,\n",
        "  style_function=lambda feature: {\n",
        "        \"fillColor\": \"#ffff00\",\n",
        "        \"color\": \"black\",\n",
        "        \"weight\": 2,\n",
        "        \"dashArray\": \"5, 5\",\n",
        "    }\n",
        ").add_to(Map)\n",
        "\n",
        "\n",
        "fg2 = folium.FeatureGroup(show=False).add_to(Map)\n",
        "folium.FitOverlays().add_to(Map)\n",
        "\n",
        "print(location)\n",
        "Map"
      ]
    }
  ],
  "metadata": {
    "colab": {
      "provenance": [],
      "authorship_tag": "ABX9TyOEUdGA/4YswfI3gaacTUyZ",
      "include_colab_link": true
    },
    "kernelspec": {
      "display_name": "Python 3",
      "name": "python3"
    },
    "language_info": {
      "name": "python"
    }
  },
  "nbformat": 4,
  "nbformat_minor": 0
}